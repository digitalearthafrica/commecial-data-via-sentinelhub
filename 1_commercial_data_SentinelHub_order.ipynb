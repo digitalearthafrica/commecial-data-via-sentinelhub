{
 "cells": [
  {
   "cell_type": "markdown",
   "id": "5362160a",
   "metadata": {},
   "source": [
    "# Commercial data ordering through Sentinel Hub"
   ]
  },
  {
   "cell_type": "markdown",
   "id": "de3ec668-e45b-4c2e-9c9f-95070a11df43",
   "metadata": {},
   "source": [
    "This notebook can be used to order commercial high resolution satellite data from the following data providers or missions:\n",
    "\n",
    "* AIRBUS [Pleiades](https://docs.sentinel-hub.com/api/latest/data/airbus/pleiades/) & [SPOT](https://docs.sentinel-hub.com/api/latest/data/airbus/spot/)\n",
    "* [Planet SCOPE](https://docs.sentinel-hub.com/api/latest/data/planet/planet-scope/)\n",
    "* [Planet SkySat](https://docs.sentinel-hub.com/api/latest/data/planet/skysat/)\n",
    "* [WorldView](https://docs.sentinel-hub.com/api/latest/data/maxar/world-view/)\n",
    "\n",
    "A Sentinel Hub(https://www.sentinel-hub.com/) account with suffcient credit is required. You'll need to provide your client id and client secret or set the relevant environment variables."
   ]
  },
  {
   "cell_type": "markdown",
   "id": "2d814b39-abdb-4fb0-9518-8afbd5a568d6",
   "metadata": {},
   "source": [
    "## Load Python packages and configure Sentinel Hub connection"
   ]
  },
  {
   "cell_type": "markdown",
   "id": "9e3d6cbb-49c4-4d2e-9f8c-fcd4ff6eaf16",
   "metadata": {},
   "source": [
    "> Additional python packages may need to be installed in your enviroment, e.g. `sentinelhub` or `area`."
   ]
  },
  {
   "cell_type": "code",
   "execution_count": null,
   "id": "b5a550d8",
   "metadata": {},
   "outputs": [],
   "source": [
    "#!pip install sentinelhub\n",
    "#!pip install area"
   ]
  },
  {
   "cell_type": "markdown",
   "id": "1d385619-b89c-4054-86f2-986bd2c51a00",
   "metadata": {},
   "source": [
    "> For use outside of the Digital Earth Africa sandbox"
   ]
  },
  {
   "cell_type": "code",
   "execution_count": null,
   "id": "25b3158b",
   "metadata": {},
   "outputs": [],
   "source": [
    "#!pip install deafrica_tools"
   ]
  },
  {
   "cell_type": "code",
   "execution_count": 8,
   "id": "1f03898b",
   "metadata": {},
   "outputs": [],
   "source": [
    "from sentinelhub import SHConfig\n",
    "from oauthlib.oauth2 import BackendApplicationClient\n",
    "from requests_oauthlib import OAuth2Session\n",
    "from odc_sh import SentinelHubCommercialData\n",
    "from odc_sh import Providers, AirbusConstellation, ThumbnailType, WorldViewKernel, WorldViewSensor, SkySatType, SkySatBundle, ScopeType, ScopeBundle\n",
    "import geopandas as gpd\n",
    "import numpy as np\n",
    "import folium\n",
    "from area import area\n",
    "import json\n",
    "import shapely\n",
    "from shapely.geometry import box\n",
    "import io\n",
    "from PIL import Image\n",
    "import matplotlib.pyplot as plt\n",
    "import os\n",
    "\n",
    "from deafrica_tools.plotting import display_map, map_shapefile, _degree_to_zoom_level\n",
    "\n",
    "sh_client_id=\"\"\n",
    "sh_client_secret=\"\"\n",
    "\n",
    "if not sh_client_id:\n",
    "    sh_client_id = os.environ['SH_CLIENT_ID']\n",
    "\n",
    "if not sh_client_secret:\n",
    "    sh_client_secret = os.environ['SH_CLIENT_SECRET']\n",
    "\n",
    "\n",
    "\n",
    "config = SHConfig()\n",
    "config.sh_client_id = sh_client_id\n",
    "config.sh_client_secret = sh_client_secret\n",
    "\n",
    "\n",
    "shcd = SentinelHubCommercialData(config)"
   ]
  },
  {
   "cell_type": "markdown",
   "id": "86a36043-d804-4360-850a-d83dd6c1d94f",
   "metadata": {},
   "source": [
    "### SentinelHubCommercialData package\n",
    "\n",
    "The SentinelHubCommercialData package is used to send and retrieve information from the Sentinel Hub API.\n",
    "It provides functionalities to\n",
    "\n",
    "* Check account quotas\n",
    "* Search for available commercial data\n",
    "* Configure, delete, and confirm an order\n",
    "* Check order status\n",
    "\n",
    "Use of these functions are explained in details below."
   ]
  },
  {
   "cell_type": "markdown",
   "id": "64524d06",
   "metadata": {},
   "source": [
    "### Printing information from API responses"
   ]
  },
  {
   "cell_type": "markdown",
   "id": "8e9f49fa",
   "metadata": {},
   "source": [
    "Every response that has method \"print_info()\", also has a raw data in response object.\n",
    "Example:"
   ]
  },
  {
   "cell_type": "code",
   "execution_count": 2,
   "id": "b453a105-0923-4d57-9f25-ecf9562f4bba",
   "metadata": {},
   "outputs": [
    {
     "name": "stdout",
     "output_type": "stream",
     "text": [
      "    idx                collectionId    quotaSqkm    quotaUsed\n",
      "--  ---------------  --------------  -----------  -----------\n",
      " 0  AIRBUS_PLEIADES             100         0               0\n",
      " 1  AIRBUS_SPOT                 500       298.81            0\n"
     ]
    }
   ],
   "source": [
    "q = shcd.quotas()\n",
    "q.print_info()"
   ]
  },
  {
   "cell_type": "code",
   "execution_count": 3,
   "id": "11c42ac6-89dd-4804-bbc9-3d7ba8a1e98d",
   "metadata": {},
   "outputs": [
    {
     "name": "stdout",
     "output_type": "stream",
     "text": [
      "[{'id': 'd3287b70-8e0c-49c7-924f-a1de28dd608b', 'collectionId': 'AIRBUS_PLEIADES', 'quotaSqkm': 100.0, 'quotaUsed': 0.0}, {'id': 'f6a89fe6-56cf-4ef6-b2a4-220a8c5e1d56', 'collectionId': 'AIRBUS_SPOT', 'quotaSqkm': 500.0, 'quotaUsed': 298.81}]\n"
     ]
    }
   ],
   "source": [
    "# response data\n",
    "print(q.data)"
   ]
  },
  {
   "cell_type": "markdown",
   "id": "8c8ebab3",
   "metadata": {},
   "source": [
    "## Getting quotas\n",
    "\n",
    "Check the quota and usage status for the Sentinel Hub account. Determine if there's suffcient credit to continue the ordering of desired imagery."
   ]
  },
  {
   "cell_type": "code",
   "execution_count": 4,
   "id": "0813e6d0",
   "metadata": {
    "scrolled": true
   },
   "outputs": [
    {
     "name": "stdout",
     "output_type": "stream",
     "text": [
      "    idx                collectionId    quotaSqkm    quotaUsed\n",
      "--  ---------------  --------------  -----------  -----------\n",
      " 0  AIRBUS_PLEIADES             100         0               0\n",
      " 1  AIRBUS_SPOT                 500       298.81            0\n"
     ]
    }
   ],
   "source": [
    "q = shcd.quotas()\n",
    "q.print_info()"
   ]
  },
  {
   "cell_type": "markdown",
   "id": "d54b6174",
   "metadata": {},
   "source": [
    "## Define simple search parameters\n",
    "\n",
    "A time period and an area of interest are used in the search for imagery."
   ]
  },
  {
   "cell_type": "markdown",
   "id": "69b71d5f",
   "metadata": {},
   "source": [
    "### Setting date and time \n",
    "\n",
    "For the start and end of the period of interest."
   ]
  },
  {
   "cell_type": "code",
   "execution_count": 5,
   "id": "5766cfcb",
   "metadata": {},
   "outputs": [],
   "source": [
    "time_from = \"2020-01-01T00:00:00Z\"\n",
    "time_to = \"2022-12-31T23:59:59Z\""
   ]
  },
  {
   "cell_type": "markdown",
   "id": "64bc549e",
   "metadata": {},
   "source": [
    "### Setting area of interest \n",
    "\n",
    "The search area can be defined in one of the 2 options:\n",
    "\n",
    "1. Bounding Box\n",
    "2. Polygon"
   ]
  },
  {
   "cell_type": "markdown",
   "id": "a6d85f8f",
   "metadata": {},
   "source": [
    "### 1. Bounding Box\n",
    "\n",
    "If a bounding box is used, the longitude and latitude bounds are provided as a list, in the order of `[min_lon, min_lat, max_lon, max_lat]`."
   ]
  },
  {
   "cell_type": "code",
   "execution_count": 6,
   "id": "49a637fd",
   "metadata": {},
   "outputs": [],
   "source": [
    "# Option 1: Set bounds as bbox\n",
    "\n",
    "bounds = [\n",
    "    30.292,\n",
    "    -1.545,\n",
    "    30.386,\n",
    "    -1.460\n",
    "]\n"
   ]
  },
  {
   "cell_type": "markdown",
   "id": "11aaeab2-bb49-4c3f-951d-e3a23655bbcd",
   "metadata": {},
   "source": [
    "**Check the area size**"
   ]
  },
  {
   "cell_type": "code",
   "execution_count": 9,
   "id": "08ff0fdd-49a4-4eb3-8e5f-372842a0d493",
   "metadata": {},
   "outputs": [
    {
     "name": "stdout",
     "output_type": "stream",
     "text": [
      "Area for selected bounding box is: 98.98 sq. km\n"
     ]
    }
   ],
   "source": [
    "aoi = box(bounds[0],bounds[1],bounds[2],bounds[3])\n",
    "\n",
    "#bbox area calculation\n",
    "area_sqm = area(json.dumps(shapely.geometry.mapping(aoi))) # area in m2 (sqm)\n",
    "\n",
    "print('Area for selected bounding box is:', round(area_sqm * 10 ** (-6),2), 'sq. km')"
   ]
  },
  {
   "cell_type": "markdown",
   "id": "c01f5be1",
   "metadata": {},
   "source": [
    "**Display bounding box on the map**"
   ]
  },
  {
   "cell_type": "code",
   "execution_count": 10,
   "id": "d16f5479",
   "metadata": {},
   "outputs": [
    {
     "data": {
      "text/html": [
       "<div style=\"width:100%;\"><div style=\"position:relative;width:100%;height:0;padding-bottom:60%;\"><span style=\"color:#565656\">Make this Notebook Trusted to load map: File -> Trust Notebook</span><iframe srcdoc=\"&lt;!DOCTYPE html&gt;\n",
       "&lt;head&gt;    \n",
       "    &lt;meta http-equiv=&quot;content-type&quot; content=&quot;text/html; charset=UTF-8&quot; /&gt;\n",
       "    \n",
       "        &lt;script&gt;\n",
       "            L_NO_TOUCH = false;\n",
       "            L_DISABLE_3D = false;\n",
       "        &lt;/script&gt;\n",
       "    \n",
       "    &lt;style&gt;html, body {width: 100%;height: 100%;margin: 0;padding: 0;}&lt;/style&gt;\n",
       "    &lt;style&gt;#map {position:absolute;top:0;bottom:0;right:0;left:0;}&lt;/style&gt;\n",
       "    &lt;script src=&quot;https://cdn.jsdelivr.net/npm/leaflet@1.6.0/dist/leaflet.js&quot;&gt;&lt;/script&gt;\n",
       "    &lt;script src=&quot;https://code.jquery.com/jquery-1.12.4.min.js&quot;&gt;&lt;/script&gt;\n",
       "    &lt;script src=&quot;https://maxcdn.bootstrapcdn.com/bootstrap/3.2.0/js/bootstrap.min.js&quot;&gt;&lt;/script&gt;\n",
       "    &lt;script src=&quot;https://cdnjs.cloudflare.com/ajax/libs/Leaflet.awesome-markers/2.0.2/leaflet.awesome-markers.js&quot;&gt;&lt;/script&gt;\n",
       "    &lt;link rel=&quot;stylesheet&quot; href=&quot;https://cdn.jsdelivr.net/npm/leaflet@1.6.0/dist/leaflet.css&quot;/&gt;\n",
       "    &lt;link rel=&quot;stylesheet&quot; href=&quot;https://maxcdn.bootstrapcdn.com/bootstrap/3.2.0/css/bootstrap.min.css&quot;/&gt;\n",
       "    &lt;link rel=&quot;stylesheet&quot; href=&quot;https://maxcdn.bootstrapcdn.com/bootstrap/3.2.0/css/bootstrap-theme.min.css&quot;/&gt;\n",
       "    &lt;link rel=&quot;stylesheet&quot; href=&quot;https://maxcdn.bootstrapcdn.com/font-awesome/4.6.3/css/font-awesome.min.css&quot;/&gt;\n",
       "    &lt;link rel=&quot;stylesheet&quot; href=&quot;https://cdnjs.cloudflare.com/ajax/libs/Leaflet.awesome-markers/2.0.2/leaflet.awesome-markers.css&quot;/&gt;\n",
       "    &lt;link rel=&quot;stylesheet&quot; href=&quot;https://cdn.jsdelivr.net/gh/python-visualization/folium/folium/templates/leaflet.awesome.rotate.min.css&quot;/&gt;\n",
       "    \n",
       "            &lt;meta name=&quot;viewport&quot; content=&quot;width=device-width,\n",
       "                initial-scale=1.0, maximum-scale=1.0, user-scalable=no&quot; /&gt;\n",
       "            &lt;style&gt;\n",
       "                #map_11a6f0d6bc24b2c59cfcee46df906a34 {\n",
       "                    position: relative;\n",
       "                    width: 100.0%;\n",
       "                    height: 100.0%;\n",
       "                    left: 0.0%;\n",
       "                    top: 0.0%;\n",
       "                }\n",
       "            &lt;/style&gt;\n",
       "        \n",
       "&lt;/head&gt;\n",
       "&lt;body&gt;    \n",
       "    \n",
       "            &lt;div class=&quot;folium-map&quot; id=&quot;map_11a6f0d6bc24b2c59cfcee46df906a34&quot; &gt;&lt;/div&gt;\n",
       "        \n",
       "&lt;/body&gt;\n",
       "&lt;script&gt;    \n",
       "    \n",
       "            var map_11a6f0d6bc24b2c59cfcee46df906a34 = L.map(\n",
       "                &quot;map_11a6f0d6bc24b2c59cfcee46df906a34&quot;,\n",
       "                {\n",
       "                    center: [-1.5025, 30.339],\n",
       "                    crs: L.CRS.EPSG3857,\n",
       "                    zoom: 12,\n",
       "                    zoomControl: true,\n",
       "                    preferCanvas: false,\n",
       "                }\n",
       "            );\n",
       "\n",
       "            \n",
       "\n",
       "        \n",
       "    \n",
       "            var tile_layer_3a4b5d1ada898493a4864bfad94054a2 = L.tileLayer(\n",
       "                &quot;http://mt1.google.com/vt/lyrs=y\\u0026z={z}\\u0026x={x}\\u0026y={y}&quot;,\n",
       "                {&quot;attribution&quot;: &quot;Google&quot;, &quot;detectRetina&quot;: false, &quot;maxNativeZoom&quot;: 18, &quot;maxZoom&quot;: 18, &quot;minZoom&quot;: 0, &quot;noWrap&quot;: false, &quot;opacity&quot;: 1, &quot;subdomains&quot;: &quot;abc&quot;, &quot;tms&quot;: false}\n",
       "            ).addTo(map_11a6f0d6bc24b2c59cfcee46df906a34);\n",
       "        \n",
       "    \n",
       "            var poly_line_680478a28f7be86b1d2ac6edb144c710 = L.polyline(\n",
       "                [[-1.545, 30.292], [-1.545, 30.386], [-1.46, 30.386], [-1.46, 30.292], [-1.545, 30.292]],\n",
       "                {&quot;bubblingMouseEvents&quot;: true, &quot;color&quot;: &quot;red&quot;, &quot;dashArray&quot;: null, &quot;dashOffset&quot;: null, &quot;fill&quot;: false, &quot;fillColor&quot;: &quot;red&quot;, &quot;fillOpacity&quot;: 0.2, &quot;fillRule&quot;: &quot;evenodd&quot;, &quot;lineCap&quot;: &quot;round&quot;, &quot;lineJoin&quot;: &quot;round&quot;, &quot;noClip&quot;: false, &quot;opacity&quot;: 0.8, &quot;smoothFactor&quot;: 1.0, &quot;stroke&quot;: true, &quot;weight&quot;: 3}\n",
       "            ).addTo(map_11a6f0d6bc24b2c59cfcee46df906a34);\n",
       "        \n",
       "    \n",
       "                var lat_lng_popup_c07caceaa8989afc1ef24b49594faa9d = L.popup();\n",
       "                function latLngPop(e) {\n",
       "                    lat_lng_popup_c07caceaa8989afc1ef24b49594faa9d\n",
       "                        .setLatLng(e.latlng)\n",
       "                        .setContent(&quot;Latitude: &quot; + e.latlng.lat.toFixed(4) +\n",
       "                                    &quot;&lt;br&gt;Longitude: &quot; + e.latlng.lng.toFixed(4))\n",
       "                        .openOn(map_11a6f0d6bc24b2c59cfcee46df906a34);\n",
       "                    }\n",
       "                map_11a6f0d6bc24b2c59cfcee46df906a34.on(&#x27;click&#x27;, latLngPop);\n",
       "            \n",
       "&lt;/script&gt;\" style=\"position:absolute;width:100%;height:100%;left:0;top:0;border:none !important;\" allowfullscreen webkitallowfullscreen mozallowfullscreen></iframe></div></div>"
      ],
      "text/plain": [
       "<folium.folium.Map at 0x7fa2084e48b0>"
      ]
     },
     "execution_count": 10,
     "metadata": {},
     "output_type": "execute_result"
    }
   ],
   "source": [
    "x = (bounds[0],bounds[2])\n",
    "y = (bounds[1],bounds[3])\n",
    "\n",
    "#view the location\n",
    "display_map(x=x, y=y)"
   ]
  },
  {
   "cell_type": "markdown",
   "id": "0755fe3b",
   "metadata": {},
   "source": [
    "### 2. Polygon\n",
    "\n",
    "Alternatively, a polygon can be provided as a geojson string. If geometry is defined using a polygon, the `bounds_polygon` variable should be used instead of `bounds` in the query below."
   ]
  },
  {
   "cell_type": "code",
   "execution_count": 11,
   "id": "cac55510",
   "metadata": {},
   "outputs": [],
   "source": [
    "# Option 2: Set bounds as Polygon\n",
    "bounds_polygon = {\n",
    "  \"type\": \"Polygon\",\n",
    "  \"coordinates\": [\n",
    "   [\n",
    "    [\n",
    "     12.500395,\n",
    "     41.931337\n",
    "    ],\n",
    "    [\n",
    "     12.507856,\n",
    "     41.931018\n",
    "    ],\n",
    "    [\n",
    "     12.507513,\n",
    "     41.927825\n",
    "    ],\n",
    "    [\n",
    "     12.50048,\n",
    "     41.928719\n",
    "    ],\n",
    "    [\n",
    "     12.500395,\n",
    "     41.931337\n",
    "    ]\n",
    "   ]\n",
    "  ]\n",
    " }"
   ]
  },
  {
   "cell_type": "markdown",
   "id": "3c32dff0-5890-4ef5-9748-13ac50174e4c",
   "metadata": {},
   "source": [
    "**Check the area size**"
   ]
  },
  {
   "cell_type": "code",
   "execution_count": 12,
   "id": "21253670-1e12-438f-a8ef-2c884f0ac71e",
   "metadata": {},
   "outputs": [
    {
     "name": "stdout",
     "output_type": "stream",
     "text": [
      "Area for selected bounding box is: 0.19 sq. km\n"
     ]
    }
   ],
   "source": [
    "area_sqm = area(bounds_polygon) # area in m2 (sqm)\n",
    "print('Area for selected bounding box is:', round(area_sqm * 10 ** (-6),2), 'sq. km')"
   ]
  },
  {
   "cell_type": "markdown",
   "id": "db03dce2-ba60-40bb-b390-4d55428135ca",
   "metadata": {},
   "source": [
    "**Display polygon on the map**\n",
    "\n",
    "World imagery from ESRI is used as the basemap by default."
   ]
  },
  {
   "cell_type": "code",
   "execution_count": 13,
   "id": "17220cdb-a663-49f3-a506-19347c3a1832",
   "metadata": {},
   "outputs": [],
   "source": [
    "# Extract coordinates from JSON\n",
    "\n",
    "geom = bounds_polygon[\"coordinates\"][0]\n",
    "\n",
    "# Calculate polygon centroid to center the map\n",
    "\n",
    "lat_all = []\n",
    "for i in range(len(geom)):\n",
    "    lat_all.append(geom[i][1])\n",
    "    \n",
    "lon_all = []\n",
    "for i in range(len(geom)):\n",
    "    lon_all.append(geom[i][0])\n",
    "    \n",
    "center = [np.mean(lat_all), np.mean(lon_all)]\n",
    "\n",
    "# Calculate zoom level based on coordinates\n",
    "\n",
    "lat_zoom_level = _degree_to_zoom_level(min(lat_all), max(lat_all))\n",
    "lon_zoom_level = _degree_to_zoom_level(min(lon_all), max(lon_all))\n",
    "\n",
    "zoom_level = min(lat_zoom_level, lon_zoom_level)"
   ]
  },
  {
   "cell_type": "code",
   "execution_count": 14,
   "id": "c5016111-42b7-47c1-94dc-7d3b52df1b0c",
   "metadata": {},
   "outputs": [
    {
     "data": {
      "text/html": [
       "<div style=\"width:100%;\"><div style=\"position:relative;width:100%;height:0;padding-bottom:60%;\"><span style=\"color:#565656\">Make this Notebook Trusted to load map: File -> Trust Notebook</span><iframe srcdoc=\"&lt;!DOCTYPE html&gt;\n",
       "&lt;head&gt;    \n",
       "    &lt;meta http-equiv=&quot;content-type&quot; content=&quot;text/html; charset=UTF-8&quot; /&gt;\n",
       "    \n",
       "        &lt;script&gt;\n",
       "            L_NO_TOUCH = false;\n",
       "            L_DISABLE_3D = false;\n",
       "        &lt;/script&gt;\n",
       "    \n",
       "    &lt;style&gt;html, body {width: 100%;height: 100%;margin: 0;padding: 0;}&lt;/style&gt;\n",
       "    &lt;style&gt;#map {position:absolute;top:0;bottom:0;right:0;left:0;}&lt;/style&gt;\n",
       "    &lt;script src=&quot;https://cdn.jsdelivr.net/npm/leaflet@1.6.0/dist/leaflet.js&quot;&gt;&lt;/script&gt;\n",
       "    &lt;script src=&quot;https://code.jquery.com/jquery-1.12.4.min.js&quot;&gt;&lt;/script&gt;\n",
       "    &lt;script src=&quot;https://maxcdn.bootstrapcdn.com/bootstrap/3.2.0/js/bootstrap.min.js&quot;&gt;&lt;/script&gt;\n",
       "    &lt;script src=&quot;https://cdnjs.cloudflare.com/ajax/libs/Leaflet.awesome-markers/2.0.2/leaflet.awesome-markers.js&quot;&gt;&lt;/script&gt;\n",
       "    &lt;link rel=&quot;stylesheet&quot; href=&quot;https://cdn.jsdelivr.net/npm/leaflet@1.6.0/dist/leaflet.css&quot;/&gt;\n",
       "    &lt;link rel=&quot;stylesheet&quot; href=&quot;https://maxcdn.bootstrapcdn.com/bootstrap/3.2.0/css/bootstrap.min.css&quot;/&gt;\n",
       "    &lt;link rel=&quot;stylesheet&quot; href=&quot;https://maxcdn.bootstrapcdn.com/bootstrap/3.2.0/css/bootstrap-theme.min.css&quot;/&gt;\n",
       "    &lt;link rel=&quot;stylesheet&quot; href=&quot;https://maxcdn.bootstrapcdn.com/font-awesome/4.6.3/css/font-awesome.min.css&quot;/&gt;\n",
       "    &lt;link rel=&quot;stylesheet&quot; href=&quot;https://cdnjs.cloudflare.com/ajax/libs/Leaflet.awesome-markers/2.0.2/leaflet.awesome-markers.css&quot;/&gt;\n",
       "    &lt;link rel=&quot;stylesheet&quot; href=&quot;https://cdn.jsdelivr.net/gh/python-visualization/folium/folium/templates/leaflet.awesome.rotate.min.css&quot;/&gt;\n",
       "    \n",
       "            &lt;meta name=&quot;viewport&quot; content=&quot;width=device-width,\n",
       "                initial-scale=1.0, maximum-scale=1.0, user-scalable=no&quot; /&gt;\n",
       "            &lt;style&gt;\n",
       "                #map_bf3e6ee7dfa985c73b07f3b3688a394d {\n",
       "                    position: relative;\n",
       "                    width: 100.0%;\n",
       "                    height: 100.0%;\n",
       "                    left: 0.0%;\n",
       "                    top: 0.0%;\n",
       "                }\n",
       "            &lt;/style&gt;\n",
       "        \n",
       "&lt;/head&gt;\n",
       "&lt;body&gt;    \n",
       "    \n",
       "            &lt;div class=&quot;folium-map&quot; id=&quot;map_bf3e6ee7dfa985c73b07f3b3688a394d&quot; &gt;&lt;/div&gt;\n",
       "        \n",
       "&lt;/body&gt;\n",
       "&lt;script&gt;    \n",
       "    \n",
       "            var map_bf3e6ee7dfa985c73b07f3b3688a394d = L.map(\n",
       "                &quot;map_bf3e6ee7dfa985c73b07f3b3688a394d&quot;,\n",
       "                {\n",
       "                    center: [41.930047200000004, 12.5033278],\n",
       "                    crs: L.CRS.EPSG3857,\n",
       "                    zoom: 15,\n",
       "                    zoomControl: true,\n",
       "                    preferCanvas: false,\n",
       "                }\n",
       "            );\n",
       "\n",
       "            \n",
       "\n",
       "        \n",
       "    \n",
       "            var tile_layer_9ad48416ce4be9f2e715fce239a67046 = L.tileLayer(\n",
       "                &quot;http://server.arcgisonline.com/ArcGIS/rest/services/World_Imagery/MapServer/MapServer/tile/{z}/{y}/{x}&quot;,\n",
       "                {&quot;attribution&quot;: &quot;ESRI World Imagery&quot;, &quot;detectRetina&quot;: false, &quot;maxNativeZoom&quot;: 18, &quot;maxZoom&quot;: 18, &quot;minZoom&quot;: 0, &quot;noWrap&quot;: false, &quot;opacity&quot;: 1, &quot;subdomains&quot;: &quot;abc&quot;, &quot;tms&quot;: false}\n",
       "            ).addTo(map_bf3e6ee7dfa985c73b07f3b3688a394d);\n",
       "        \n",
       "    \n",
       "\n",
       "        function geo_json_eee88c33753e922f7ad02dff92c297ff_onEachFeature(feature, layer) {\n",
       "            layer.on({\n",
       "            });\n",
       "        };\n",
       "        var geo_json_eee88c33753e922f7ad02dff92c297ff = L.geoJson(null, {\n",
       "                onEachFeature: geo_json_eee88c33753e922f7ad02dff92c297ff_onEachFeature,\n",
       "            \n",
       "        });\n",
       "\n",
       "        function geo_json_eee88c33753e922f7ad02dff92c297ff_add (data) {\n",
       "            geo_json_eee88c33753e922f7ad02dff92c297ff\n",
       "                .addData(data)\n",
       "                .addTo(map_bf3e6ee7dfa985c73b07f3b3688a394d);\n",
       "        }\n",
       "            geo_json_eee88c33753e922f7ad02dff92c297ff_add({&quot;coordinates&quot;: [[[12.500395, 41.931337], [12.507856, 41.931018], [12.507513, 41.927825], [12.50048, 41.928719], [12.500395, 41.931337]]], &quot;type&quot;: &quot;Polygon&quot;});\n",
       "\n",
       "        \n",
       "&lt;/script&gt;\" style=\"position:absolute;width:100%;height:100%;left:0;top:0;border:none !important;\" allowfullscreen webkitallowfullscreen mozallowfullscreen></iframe></div></div>"
      ],
      "text/plain": [
       "<folium.folium.Map at 0x7fa1b323b7f0>"
      ]
     },
     "execution_count": 14,
     "metadata": {},
     "output_type": "execute_result"
    }
   ],
   "source": [
    "#Multiple options for basemap\n",
    "#Option 1. World imagery from ESRI\n",
    "World_Imagery = (\"http://server.arcgisonline.com/ArcGIS/rest/services/World_Imagery/MapServer\" + '/MapServer/tile/{z}/{y}/{x}')\n",
    "\n",
    "#Option 2: World Topo Map from ESRI\n",
    "#World_Topo_Map = (\n",
    "#    'http://services.arcgisonline.com/arcgis/rest/services/World_Topo_Map'\n",
    "#    + '/MapServer/tile/{z}/{y}/{x}'\n",
    "#)\n",
    "\n",
    "#The attribute paramater needs to be provided for custom tiles\n",
    "map = folium.Map(location=center, tiles=World_Imagery, attr='ESRI World Imagery', zoom_start=zoom_level)\n",
    "folium.GeoJson(bounds_polygon, name=\"geojson\").add_to(map)\n",
    "\n",
    "map"
   ]
  },
  {
   "cell_type": "markdown",
   "id": "c3b47a26",
   "metadata": {},
   "source": [
    "## Search for available imagery\n",
    "\n",
    "Choose one of the providers below to run the search. Replace `bounds` with `bounds_polygon` if geometry is provided as a polygon.\n",
    "\n",
    "The search will return available imagery and properties that might help decide which images to order. The list of properties available are different for different data collections. \n",
    "\n",
    "Each image has a unique id which will be used to identify them in the ordering process."
   ]
  },
  {
   "cell_type": "markdown",
   "id": "62297a90",
   "metadata": {},
   "source": [
    "### 1. AIRBUS Pleiades & SPOT\n",
    "\n",
    "For more information on mission and data characteristics: AIRBUS [Pleiades](https://docs.sentinel-hub.com/api/latest/data/airbus/pleiades/) & [SPOT](https://docs.sentinel-hub.com/api/latest/data/airbus/spot/)\n",
    "\n",
    "In addition to the time period and area of interest, additional optional query parameters can be used: \n",
    "\n",
    "* maxCloudCoverage (Values: 0-100 | 100 as default)\n",
    "* maxSnowCoverage (Vaules: 0-90 | 90 as default)\n",
    "* maxIncidenceAngle (Values: 0-90 | 90 as default)\n",
    "* processingLevel (Values: \"Sensor\",\"Album\" | \"Sensor\" as default)"
   ]
  },
  {
   "cell_type": "code",
   "execution_count": 22,
   "id": "95afcbba-3f61-4820-bcf6-79514f4380f3",
   "metadata": {},
   "outputs": [],
   "source": [
    "# Option 1: AIRBUS Pleiades & SPOT\n",
    "# Optional parameters: \n",
    "#    - maxCloudCoverage (Values: 0-100 | 100 as default)\n",
    "#    - maxSnowCoverage (Vaules: 0-90 | 90 as default)\n",
    "#    - maxIncidenceAngle (Values: 0-90 | 90 as default)\n",
    "#    - processingLevel (Values: \"Sensor\",\"Album\" | \"Sensor\",\"Album\" as default)\n",
    "#\n",
    "#  example: shcd.search_airbus(AirbusConstellation, Bounds, Time_From, Time_To, *Optional parameters*)\n",
    "\n",
    "res = shcd.search_airbus(AirbusConstellation.SPOT, bounds, time_from, time_to, maxCloudCoverage=20, maxSnowCoverage=50)"
   ]
  },
  {
   "cell_type": "markdown",
   "id": "8b215a76-9b93-4c36-9349-759c66f33b73",
   "metadata": {},
   "source": [
    "Print information about available imagery, including all or a selected list of properties."
   ]
  },
  {
   "cell_type": "code",
   "execution_count": 23,
   "id": "04a169ac-c60e-44ae-afc0-81e27a8c0983",
   "metadata": {},
   "outputs": [
    {
     "name": "stdout",
     "output_type": "stream",
     "text": [
      "    idx                                   id                          acquisitionDate    resolution    cloudCover    incidenceAngle\n",
      "--  ------------------------------------  ------------------------  -----------------  ------------  ------------  ----------------\n",
      " 0  7e70d2fd-fefc-4855-9aa1-35993e7f8428  2022-03-10T08:03:44.249Z                1.5     1.2             14.3633                 0\n",
      " 1  b436722b-1a95-40c7-8a8d-1041e722fa76  2020-09-17T07:59:33.124Z                1.5     0.412221        15.3592                 0\n",
      " 2  26235670-a017-467e-bff6-8500e3b6729c  2020-02-09T08:00:00.499Z                1.5     0.0177914       11.3341                 0\n",
      " 3  36d3438a-5a68-4674-8b10-e6ea235a73d0  2020-02-09T07:59:14.749Z                1.5     0.0125775       29.422                  0\n"
     ]
    }
   ],
   "source": [
    "# Optional parameters: \n",
    "#    - props\n",
    "#\n",
    "# example: res.print_info(props=[\"id\", \"acquisitionDate\", \"resolution\", \"cloudCover\"])\n",
    "res.print_info()"
   ]
  },
  {
   "cell_type": "code",
   "execution_count": 24,
   "id": "98f10a18-6507-4525-851a-bd7d4b88f7e9",
   "metadata": {},
   "outputs": [
    {
     "data": {
      "text/plain": [
       "{'provider': 'AIRBUS',\n",
       " 'bounds': {'bbox': [30.292, -1.545, 30.386, -1.46]},\n",
       " 'data': [{'constellation': 'SPOT',\n",
       "   'dataFilter': {'maxCloudCoverage': 20,\n",
       "    'maxSnowCoverage': 50,\n",
       "    'timeRange': {'from': '2020-01-01T00:00:00Z',\n",
       "     'to': '2022-12-31T23:59:59Z'}}}]}"
      ]
     },
     "execution_count": 24,
     "metadata": {},
     "output_type": "execute_result"
    }
   ],
   "source": [
    "res.query"
   ]
  },
  {
   "cell_type": "markdown",
   "id": "c0d88fbb-f967-489b-a3a6-c3cbf0f62b9a",
   "metadata": {},
   "source": [
    "#### Select suitable images\n",
    "\n",
    "Select images with desired properties. Record the unique ids of the selected images."
   ]
  },
  {
   "cell_type": "code",
   "execution_count": null,
   "id": "5f790928-33fd-42dc-b78b-6595ef55eac0",
   "metadata": {},
   "outputs": [],
   "source": [
    "# Getting ids\n",
    "item_ids = res.get_ids()\n",
    "\n",
    "selected_ids = [item_ids[4], item_ids[6]] if len(res.data.features) else []\n",
    "selected_ids"
   ]
  },
  {
   "cell_type": "markdown",
   "id": "b8b2e784",
   "metadata": {},
   "source": [
    "### 2. Planet SCOPE\n",
    "\n",
    "For more information on mission and data characteristics: [Planet SCOPE](https://docs.sentinel-hub.com/api/latest/data/planet/planet-scope/)\n",
    "\n",
    "In addition to the time period and area of interest, additional optional query parameters can be used: \n",
    "\n",
    "* maxCloudCoverage (Values: 0-100 | 100 as default)"
   ]
  },
  {
   "cell_type": "code",
   "execution_count": null,
   "id": "aad9d54d-137c-4254-9e48-2f47ee80a885",
   "metadata": {},
   "outputs": [],
   "source": [
    "# Option 2: Planet SCOPE\n",
    "# Optional parameters: \n",
    "#    - maxCloudCoverage (Values: 0-100 | 100 as default)\n",
    "#\n",
    "#  example: shcd.search_airbus(ScopeType, ScopeBundle, Bounds, Time_From, Time_To, *Optional parameters*)\n",
    "\n",
    "res = shcd.search_planet(ScopeType.PSScene, ScopeBundle.ANALYTIC_UDM2, bounds, time_from, time_to, maxCloudCoverage=90)"
   ]
  },
  {
   "cell_type": "markdown",
   "id": "4a38db3e-8f60-4668-b08d-e52a5df09c15",
   "metadata": {},
   "source": [
    "Print information about available imagery, including all or a selected list of properties."
   ]
  },
  {
   "cell_type": "code",
   "execution_count": null,
   "id": "db3111a8-f108-451d-bae4-9090ca733ac8",
   "metadata": {},
   "outputs": [],
   "source": [
    "# Optional parameters: \n",
    "#    - props\n",
    "#\n",
    "# example: res.print_info(props=[\"cloud_cover\", \"snow_ice_percent\", \"acquired\", \"pixel_resolution\"])\n",
    "res.print_info()"
   ]
  },
  {
   "cell_type": "markdown",
   "id": "a774e10a-8a1f-43f6-adc1-adbc44f8aa60",
   "metadata": {},
   "source": [
    "#### Select suitable images\n",
    "\n",
    "Select images with desired properties. Record the unique ids of the selected images."
   ]
  },
  {
   "cell_type": "code",
   "execution_count": null,
   "id": "a95abcd5-728f-4a3b-aaa6-5e88021e9885",
   "metadata": {},
   "outputs": [],
   "source": [
    "# Getting ids\n",
    "item_ids = res.get_ids()\n",
    "\n",
    "selected_ids = [item_ids[0], item_ids[1]] if len(res.data.features) else []\n",
    "selected_ids"
   ]
  },
  {
   "cell_type": "markdown",
   "id": "ad114193",
   "metadata": {},
   "source": [
    "### 3. Planet SkySat\n",
    "\n",
    "For more information on mission and data characteristics: [Planet SkySat](https://docs.sentinel-hub.com/api/latest/data/planet/skysat/)\n"
   ]
  },
  {
   "cell_type": "code",
   "execution_count": null,
   "id": "7f33d557-2ad0-40af-99c1-26b5142b8e06",
   "metadata": {},
   "outputs": [],
   "source": [
    "# Option 3: Planet SkySat\n",
    "#\n",
    "#  example: shcd.search_airbus(ScopeType, ScopeBundle, Bounds, Time_From, Time_To, planetApiKey=<your_planey_api_key>)\n",
    "\n",
    "res = shcd.search_planet(SkySatType.SkySatCollect, SkySatBundle.PANCHROMATIC, bounds, time_from, time_to, planetApiKey=\"\")"
   ]
  },
  {
   "cell_type": "markdown",
   "id": "befea272-e8e5-4f8d-9fc0-9ed2903cabcf",
   "metadata": {},
   "source": [
    "Print information about available imagery, including all or a selected list of properties."
   ]
  },
  {
   "cell_type": "code",
   "execution_count": null,
   "id": "d83cf3c9-1db0-4158-891b-1484901d0efa",
   "metadata": {},
   "outputs": [],
   "source": [
    "# Optional parameters: \n",
    "#    - props\n",
    "#\n",
    "# example: res.print_info(props=[\"cloud_cover\", \"snow_ice_percent\", \"acquired\", \"pixel_resolution\"])\n",
    "res.print_info()"
   ]
  },
  {
   "cell_type": "markdown",
   "id": "30000aa9-cbd9-47b2-b31f-8a2642a6ac03",
   "metadata": {},
   "source": [
    "#### Select suitable images\n",
    "\n",
    "Select images with desired properties. Record the unique ids of the selected images."
   ]
  },
  {
   "cell_type": "code",
   "execution_count": null,
   "id": "37883636-6f74-4988-a930-0030ecc0e903",
   "metadata": {},
   "outputs": [],
   "source": [
    "# Getting ids\n",
    "item_ids = res.get_ids()\n",
    "\n",
    "selected_ids = [item_ids[0], item_ids[1]] if len(res.data.features) else []\n",
    "selected_ids"
   ]
  },
  {
   "cell_type": "markdown",
   "id": "82f13c72",
   "metadata": {},
   "source": [
    "### 4. WorldView\n",
    "\n",
    "For more information on mission and data characteristics: [WorldView](https://docs.sentinel-hub.com/api/latest/data/maxar/world-view/)\n",
    "\n",
    "In addition to the time period and area of interest, additional optional query parameters can be used: \n",
    "\n",
    "* maxCloudCoverage (Values: 0-100 | 100 as default)\n",
    "* minOffNadir (Values: 0-45 | 0 as default)\n",
    "* maxOffNadir (Values: 0-45 | 45 as default)\n",
    "* minSunElevation (Values: 0-90 | o as default)\n",
    "* maxSunElevation (Values: 0-90 | 90 as default)\n",
    "* sensor (Values: WorldViewSensor | Any as default)\n"
   ]
  },
  {
   "cell_type": "code",
   "execution_count": null,
   "id": "cbc98d32-6e1a-4841-8a71-1d6d582ed543",
   "metadata": {},
   "outputs": [],
   "source": [
    "# Option 4: WorldView MAXAR\n",
    "# Optional parameters:\n",
    "#    - maxCloudCoverage (Values: 0-100 | 100 as default)\n",
    "#    - minOffNadir (Values: 0-45 | 0 as default)\n",
    "#    - maxOffNadir (Values: 0-45 | 45 as default)\n",
    "#    - minSunElevation (Values: 0-90 | o as default)\n",
    "#    - maxSunElevation (Values: 0-90 | 90 as default)\n",
    "#    - sensor (Values: WorldViewSensor | Any as default)\n",
    "#\n",
    "#  example: shcd.search_airbus(WorldViewKernel, ScopeBundle, Bounds, Time_From, Time_To, *Optional parameters*)\n",
    "#\n",
    "\n",
    "res = shcd.search_worldview(WorldViewKernel.MTF, bounds, time_from, time_to, sensor=WorldViewSensor.WV01.value)"
   ]
  },
  {
   "cell_type": "markdown",
   "id": "24d175fd-cbda-4a97-9e1f-f9c0ebf04335",
   "metadata": {},
   "source": [
    "Print information about available imagery, including all or a selected list of properties."
   ]
  },
  {
   "cell_type": "code",
   "execution_count": null,
   "id": "cc53fd38-2da3-4b30-8761-3f97530725f3",
   "metadata": {},
   "outputs": [],
   "source": [
    "# Optional parameters: \n",
    "#    - props\n",
    "#\n",
    "# example: res.print_info(props=[\"catalogId\", \"sensor\", \"maxSunAzimuth\", \"acquisitionDateStart\"])\n",
    "res.print_info()"
   ]
  },
  {
   "cell_type": "markdown",
   "id": "2c2ab334-58d8-4b50-b505-7025b6c633d9",
   "metadata": {},
   "source": [
    "#### Select suitable images\n",
    "\n",
    "Select images with desired properties. Record the unique ids of the selected images."
   ]
  },
  {
   "cell_type": "code",
   "execution_count": null,
   "id": "69c45ab4-146a-41b4-b86b-1cd7dee95b15",
   "metadata": {},
   "outputs": [],
   "source": [
    "# Getting ids\n",
    "item_ids = res.get_ids()\n",
    "\n",
    "selected_ids = [item_ids[0], item_ids[1]] if len(res.data.features) else []\n",
    "selected_ids"
   ]
  },
  {
   "cell_type": "markdown",
   "id": "1939c1ef",
   "metadata": {},
   "source": [
    "## Display thumbnail for selected images\n",
    "\n",
    "Thumbnails are provided for the entire scene, which may cover regions outside of the area of interest. At a coarse resolution, they can be used to visually check overall image quality before ordering. "
   ]
  },
  {
   "cell_type": "code",
   "execution_count": null,
   "id": "a6c257db",
   "metadata": {},
   "outputs": [],
   "source": [
    "# Define product ids for a preview\n",
    "if not len(selected_ids):\n",
    "    print(\"No ids found.\")\n",
    "\n",
    "for sid in selected_ids:\n",
    "    thumbnail = shcd.thumbnail(res.thumb, sid)\n",
    "    image_bytes = io.BytesIO(thumbnail.content)\n",
    "    image = Image.open(image_bytes)\n",
    "    plt.imshow(image)\n",
    "    plt.show()\n",
    "    "
   ]
  },
  {
   "cell_type": "markdown",
   "id": "c2dbfacd",
   "metadata": {},
   "source": [
    "## Data Order\n",
    "\n",
    "Proceed to order the data if satisfactory images are found in the search above."
   ]
  },
  {
   "cell_type": "markdown",
   "id": "8e62ca30",
   "metadata": {},
   "source": [
    "### OPTIONAL: Getting compatible data collections\n",
    "\n",
    "Data can be organized in collections for ease of management. New data can be added to exisiting collections if the unique id for the collection is provided during order."
   ]
  },
  {
   "cell_type": "code",
   "execution_count": null,
   "id": "230e690e",
   "metadata": {},
   "outputs": [],
   "source": [
    "collections = shcd.get_collection(res.query)\n",
    "collections.print_info()"
   ]
  },
  {
   "cell_type": "markdown",
   "id": "c67210c2",
   "metadata": {},
   "source": [
    "#### Record unique id for a collection to be used in the ordering process"
   ]
  },
  {
   "cell_type": "code",
   "execution_count": null,
   "id": "3b05121e",
   "metadata": {},
   "outputs": [],
   "source": [
    "colIdx = 0 # Idx number from search above\n",
    "collectionId = collections.data[colIdx][\"id\"]\n",
    "collectionId"
   ]
  },
  {
   "cell_type": "markdown",
   "id": "1441fd7e",
   "metadata": {},
   "source": [
    "### Create an query order: Airbus, Planet SkySat and Scope\n",
    "\n",
    "Order all data that satisfy query criteria."
   ]
  },
  {
   "cell_type": "code",
   "execution_count": null,
   "id": "46fe2e9f",
   "metadata": {},
   "outputs": [],
   "source": [
    "# Optional parametrs:\n",
    "#  - collectionId\n",
    "#\n",
    "# example: shcd.order(\"Order name\", Query, *Optional_parameters*)\n",
    "\n",
    "#response = shcd.order(\"New query order\", res.query)"
   ]
  },
  {
   "cell_type": "markdown",
   "id": "2edc51ad",
   "metadata": {},
   "source": [
    "### Create a normal order: Airbus, Planet SkySat and Scope\n",
    "\n",
    "Order data that satisfy query criteria and match specified unique ids.\n",
    "\n",
    "To add data to an exisiting collection, use the optional parameter `collectionId`."
   ]
  },
  {
   "cell_type": "code",
   "execution_count": null,
   "id": "a26a72f7",
   "metadata": {
    "scrolled": true
   },
   "outputs": [],
   "source": [
    "# Optional parametrs:\n",
    "#  - collectionId\n",
    "#\n",
    "# example: shcd.order(\"Order name\", Query, Items_Ids)\n",
    "# example with collectionId: shcd.order(\"Order name\", Query, Items_Ids, collectionId=collectionId)\n",
    "\n",
    "\n",
    "order = shcd.order(\"New normal order\", res.query, item_ids=selected_ids)\n",
    "order.print_info()"
   ]
  },
  {
   "cell_type": "markdown",
   "id": "9fa29041-a44f-4fc4-9c95-89591c3b67ba",
   "metadata": {},
   "source": [
    "> An order would have been created but not yet executed. A confirmation step is required for the order execution."
   ]
  },
  {
   "cell_type": "markdown",
   "id": "1d2cf256",
   "metadata": {},
   "source": [
    "### Confirming or delete an order"
   ]
  },
  {
   "cell_type": "markdown",
   "id": "a9c2f551-48b4-428f-ac5b-6cd2d38ee8f9",
   "metadata": {},
   "source": [
    "#### Getting status of orders\n",
    "\n",
    "Retrieve the list of current and previous orders and their status."
   ]
  },
  {
   "cell_type": "code",
   "execution_count": null,
   "id": "20c0ec6f",
   "metadata": {},
   "outputs": [],
   "source": [
    "# Optional: Get single order by adding order_id as parameter\n",
    "# example: shcd.get_orders(\"asdf12-12bfa...\")\n",
    "\n",
    "orders = shcd.get_orders()\n",
    "orders.print_info()\n"
   ]
  },
  {
   "cell_type": "markdown",
   "id": "47e9184a",
   "metadata": {},
   "source": [
    "#### Select unique id of an order"
   ]
  },
  {
   "cell_type": "code",
   "execution_count": null,
   "id": "3b09687d",
   "metadata": {},
   "outputs": [],
   "source": [
    "order_ids = orders.get_ids()\n",
    "order_id = order_ids[0] #you can use order_ids[1]"
   ]
  },
  {
   "cell_type": "markdown",
   "id": "62d2565c",
   "metadata": {},
   "source": [
    "### Delete an order\n",
    "\n",
    "An order can be deleted using its unique id."
   ]
  },
  {
   "cell_type": "code",
   "execution_count": null,
   "id": "521d4793",
   "metadata": {},
   "outputs": [],
   "source": [
    "res = shcd.delete_order(order_id)\n",
    "res.print_info()"
   ]
  },
  {
   "cell_type": "markdown",
   "id": "23eca9b0",
   "metadata": {},
   "source": [
    "### Confirm an order\n",
    "\n",
    "**Proceed to order imagery!**\n",
    "\n",
    "Once confirmed, an order will be executed. The status of the order should be changed to `RUNNING` shortly after confirmation. The time it takes for an order to complete will depend on amount and type of data ordered. Data is available for use when the order status is `DONE`."
   ]
  },
  {
   "cell_type": "code",
   "execution_count": null,
   "id": "7ddbfd91",
   "metadata": {},
   "outputs": [],
   "source": [
    "res = shcd.confirm_order(order_id)\n",
    "res.print_info()"
   ]
  }
 ],
 "metadata": {
  "kernelspec": {
   "display_name": "Python 3 (ipykernel)",
   "language": "python",
   "name": "python3"
  },
  "language_info": {
   "codemirror_mode": {
    "name": "ipython",
    "version": 3
   },
   "file_extension": ".py",
   "mimetype": "text/x-python",
   "name": "python",
   "nbconvert_exporter": "python",
   "pygments_lexer": "ipython3",
   "version": "3.8.10"
  },
  "vscode": {
   "interpreter": {
    "hash": "a2a24b19c07de222b1e110e52e9ad43b6c20323470c4464d7e3b9b27f385819c"
   }
  }
 },
 "nbformat": 4,
 "nbformat_minor": 5
}
