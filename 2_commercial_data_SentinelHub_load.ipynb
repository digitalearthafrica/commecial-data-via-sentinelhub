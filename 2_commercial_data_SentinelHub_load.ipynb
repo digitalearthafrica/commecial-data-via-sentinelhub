{
 "cells": [
  {
   "cell_type": "markdown",
   "id": "ec5202e3-0b97-4ddf-867e-cb253242c80c",
   "metadata": {},
   "source": [
    "# Commercial data access through Sentinel Hub\n",
    "\n",
    "This notebook can be used to access commercial high resolution satellite data that have been ordered through Sentinel Hub.\n",
    "\n",
    "To order commercial data, use the [Commercial_data_SentinelHub_order notebook](Commercial_data_SentinelHub_order.ipynb).\n",
    "\n",
    "Data from the following data providers or missions can be ordered:\n",
    "\n",
    "* AIRBUS [Pleiades](https://docs.sentinel-hub.com/api/latest/data/airbus/pleiades/) & [SPOT](https://docs.sentinel-hub.com/api/latest/data/airbus/spot/)\n",
    "* [Planet SCOPE](https://docs.sentinel-hub.com/api/latest/data/planet/planet-scope/)\n",
    "* [Planet SkySat](https://docs.sentinel-hub.com/api/latest/data/planet/skysat/)\n",
    "* [WorldView](https://docs.sentinel-hub.com/api/latest/data/maxar/world-view/)\n",
    "\n",
    "A [Sentinel Hub](https://www.sentinel-hub.com/) account with sufficient credit is required. You'll need to provide your `client id` and `client secret` or set the relevant environment variables.\n",
    "\n",
    "This example will use AIRBUS SPOT data."
   ]
  },
  {
   "cell_type": "markdown",
   "id": "a6960f13-8a40-4a13-b1bd-99cfa115e1b4",
   "metadata": {},
   "source": [
    "## Load Python packages and configure Sentinel Hub connection"
   ]
  },
  {
   "cell_type": "code",
   "execution_count": 1,
   "id": "aee0675b-b951-436f-96ed-1a80867b3b27",
   "metadata": {},
   "outputs": [
    {
     "name": "stderr",
     "output_type": "stream",
     "text": [
      "/usr/local/lib/python3.8/dist-packages/geopandas/_compat.py:112: UserWarning: The Shapely GEOS version (3.8.0-CAPI-1.13.1 ) is incompatible with the GEOS version PyGEOS was compiled with (3.10.3-CAPI-1.16.1). Conversions between both will be slow.\n",
      "  warnings.warn(\n"
     ]
    }
   ],
   "source": [
    "%matplotlib inline\n",
    "\n",
    "import os\n",
    "import numpy as np\n",
    "import xarray as xr\n",
    "import matplotlib.pyplot as plt\n",
    "import datetime\n",
    "from sentinelhub import DataCollection, ResamplingType, SHConfig, SentinelHubBYOC, BBox, CRS\n",
    "import pandas\n",
    "\n",
    "from datacube.utils.cog import write_cog\n",
    "from datacube.utils.geometry import CRS, assign_crs\n",
    "\n",
    "from odc_sh import engine, SentinelHubCommercialData"
   ]
  },
  {
   "cell_type": "markdown",
   "id": "8de47c37-42bb-43b4-b172-3cea8fbe3a7a",
   "metadata": {},
   "source": [
    "Set Sentinel HUB credentials"
   ]
  },
  {
   "cell_type": "code",
   "execution_count": 2,
   "id": "460be39b-41f7-4c38-bb94-3a9d75748878",
   "metadata": {},
   "outputs": [],
   "source": [
    "sh_client_id=\"\"\n",
    "sh_client_secret=\"\"\n",
    "\n",
    "if not sh_client_id:\n",
    "    sh_client_id = os.environ['SH_CLIENT_ID']\n",
    "\n",
    "if not sh_client_secret:\n",
    "    sh_client_secret = os.environ['SH_CLIENT_SECRET']"
   ]
  },
  {
   "cell_type": "code",
   "execution_count": 3,
   "id": "eca7ae7a-6c22-4cab-b5ef-3ae070700e3e",
   "metadata": {},
   "outputs": [],
   "source": [
    "config = SHConfig()\n",
    "config.sh_client_id = sh_client_id\n",
    "config.sh_client_secret = sh_client_secret\n",
    "\n",
    "shcd = SentinelHubCommercialData(config)"
   ]
  },
  {
   "cell_type": "markdown",
   "id": "35d8bfab-fdf6-4310-b213-e9daa3a92f82",
   "metadata": {},
   "source": [
    "## Define data search parameters\n",
    "\n",
    "Following parameters are required to query and load data:\n",
    "\n",
    "* `latitude`: min and max latitude\n",
    "* `longitude`: min and max longitude\n",
    "* `time`: start and end date and time\n",
    "* `resolution`: output resolution in meters\n",
    "* `collection_id`: unique id of the data collection"
   ]
  },
  {
   "cell_type": "code",
   "execution_count": 4,
   "id": "1d812bfc-7c98-44e8-b077-bb6dc483bfe3",
   "metadata": {},
   "outputs": [],
   "source": [
    "resolution = 1.5  # in meters\n",
    "longitude = (36.83, 36.90)\n",
    "latitude = (-17.7, -17.6)\n",
    "time = (\"2021-01-01\", \"2021-12-30\")"
   ]
  },
  {
   "cell_type": "markdown",
   "id": "4e6d7aef-dfae-493d-abe5-730496c27c90",
   "metadata": {},
   "source": [
    "Find all compatible collections"
   ]
  },
  {
   "cell_type": "code",
   "execution_count": 7,
   "id": "d0a8213e-5469-4305-8776-15233e3acebf",
   "metadata": {},
   "outputs": [
    {
     "name": "stdout",
     "output_type": "stream",
     "text": [
      "    idx                                   id                       name                           created\n",
      "--  ------------------------------------  -----------------------  ---------------------------  ---------\n",
      " 0  4dc28550-8f1e-4e50-a849-a3681c9cbc60  My Airbus Spot data      2022-11-30T10:06:10.673456Z          0\n",
      " 1  77c15005-007e-41f3-9644-b0143bdaf472  My Airbus Pleiades data  2022-11-30T10:05:59.686626Z          0\n",
      " 2  8aa730c0-064d-4738-89ea-276073543bab  Mozambique               2023-03-03T04:34:30.502481Z          0\n",
      " 3  f17ee64c-2533-4958-b2f8-1681e0e17749  Rwanda                   2023-03-03T04:30:53.784682Z          0\n"
     ]
    }
   ],
   "source": [
    "query = {'provider': 'AIRBUS',\n",
    "         'bounds': {'bbox': [longitude[0], latitude[0], longitude[1], latitude[1]]},\n",
    "         'data': [{'constellation': 'SPOT'}]}\n",
    "\n",
    "collections = shcd.get_collection(query)\n",
    "collections.print_info()"
   ]
  },
  {
   "cell_type": "markdown",
   "id": "152b8c08-aaf1-4977-8349-bd3b1f134d4d",
   "metadata": {},
   "source": [
    "Select the desired collection id"
   ]
  },
  {
   "cell_type": "code",
   "execution_count": 8,
   "id": "b1abd069-accb-451f-8ee6-9ebada6a9514",
   "metadata": {},
   "outputs": [],
   "source": [
    "collection_id = \"8aa730c0-064d-4738-89ea-276073543bab\""
   ]
  },
  {
   "cell_type": "markdown",
   "id": "0209d88f-98d3-4762-8613-0a0947dd8b95",
   "metadata": {},
   "source": [
    "## Connect to Datacube and load data"
   ]
  },
  {
   "cell_type": "code",
   "execution_count": 9,
   "id": "e77e2627-4fea-470d-b5b1-8f7ccb13ab0b",
   "metadata": {},
   "outputs": [],
   "source": [
    "dc = engine.Datacube(sh_client_id=sh_client_id, sh_client_secret=sh_client_secret)"
   ]
  },
  {
   "cell_type": "code",
   "execution_count": 10,
   "id": "9025c167-ae25-4017-8d36-848993e4a2a3",
   "metadata": {},
   "outputs": [
    {
     "data": {
      "text/plain": [
       "<DataCollection.8aa730c0-064d-4738-89ea-276073543bab: DataCollectionDefinition(\n",
       "  api_id: byoc-8aa730c0-064d-4738-89ea-276073543bab\n",
       "  catalog_id: byoc-8aa730c0-064d-4738-89ea-276073543bab\n",
       "  wfs_id: byoc-8aa730c0-064d-4738-89ea-276073543bab\n",
       "  service_url: https://services.sentinel-hub.com\n",
       "  collection_type: BYOC\n",
       "  bands: (Band(name='B0', units=(<Unit.DN: 'DN'>,), output_types=(<class 'numpy.uint16'>,)), Band(name='B1', units=(<Unit.DN: 'DN'>,), output_types=(<class 'numpy.uint16'>,)), Band(name='B2', units=(<Unit.DN: 'DN'>,), output_types=(<class 'numpy.uint16'>,)), Band(name='B3', units=(<Unit.DN: 'DN'>,), output_types=(<class 'numpy.uint16'>,)), Band(name='PAN', units=(<Unit.DN: 'DN'>,), output_types=(<class 'numpy.uint16'>,)))\n",
       "  collection_id: 8aa730c0-064d-4738-89ea-276073543bab\n",
       "  is_timeless: False\n",
       "  has_cloud_coverage: False\n",
       ")>"
      ]
     },
     "execution_count": 10,
     "metadata": {},
     "output_type": "execute_result"
    }
   ],
   "source": [
    "myCollection = dc.get_BYOC_collection(collection_id)\n",
    "myCollection"
   ]
  },
  {
   "cell_type": "markdown",
   "id": "d35e065a-dbfa-4216-a3eb-91630bbac719",
   "metadata": {},
   "source": [
    "Metadata for a data collection includes available bands or measurements. When loading data, by default all bands will be retrieved. If a list of band names are provided through the `measurements` parameter, only the selected bands will be retrieved.\n",
    "\n",
    "If the output resolution and grid doesn't match the input data, nearest neighbor resampling is applied by default. An alternative resampling method can be configured by setting the `sh_resampling` parameter. Options include `ResamplingType.BICUBIC`, `ResamplingType.BILINEAR` and `ResamplingType.NEAREST`"
   ]
  },
  {
   "cell_type": "code",
   "execution_count": 11,
   "id": "4312fcf4-1501-40ea-8f87-bf2e6436c6d9",
   "metadata": {},
   "outputs": [
    {
     "name": "stdout",
     "output_type": "stream",
     "text": [
      "Searching for new products\n",
      "measurement: {'name': 'B0', 'units': 'DN', 'dtype': 'uint16', 'nodata': 0}\n",
      "measurement: {'name': 'B1', 'units': 'DN', 'dtype': 'uint16', 'nodata': 0}\n",
      "measurement: {'name': 'B2', 'units': 'DN', 'dtype': 'uint16', 'nodata': 0}\n",
      "measurement: {'name': 'B3', 'units': 'DN', 'dtype': 'uint16', 'nodata': 0}\n",
      "measurement: {'name': 'PAN', 'units': 'DN', 'dtype': 'uint16', 'nodata': 0}\n",
      "Product created for 8aa730c0-064d-4738-89ea-276073543bab\n",
      "LOADING SENTINEL HUB DATA\n",
      "---------------------------------------------\n",
      "longitude: 36.83, 36.9; latitude: -17.7, -17.6; resolution: 1.5 m; crs: EPSG:4326; time: 2021-02-26; resampling: ResamplingType.BICUBIC, max cloud coverage: None\n"
     ]
    },
    {
     "data": {
      "application/vnd.jupyter.widget-view+json": {
       "model_id": "301c6192c1e94ef78bf951be53ede04a",
       "version_major": 2,
       "version_minor": 0
      },
      "text/plain": [
       "  0%|          | 0/12 [00:00<?, ?it/s]"
      ]
     },
     "metadata": {},
     "output_type": "display_data"
    },
    {
     "name": "stdout",
     "output_type": "stream",
     "text": [
      "---------------------------------------------\n",
      "longitude: 36.83, 36.9; latitude: -17.7, -17.6; resolution: 1.5 m; crs: EPSG:4326; time: 2021-06-29; resampling: ResamplingType.BICUBIC, max cloud coverage: None\n"
     ]
    },
    {
     "data": {
      "application/vnd.jupyter.widget-view+json": {
       "model_id": "cbc253b075f44c6c896913e0dcfe72bd",
       "version_major": 2,
       "version_minor": 0
      },
      "text/plain": [
       "  0%|          | 0/12 [00:00<?, ?it/s]"
      ]
     },
     "metadata": {},
     "output_type": "display_data"
    }
   ],
   "source": [
    "ds = dc.load(\n",
    "    product=myCollection,\n",
    "    latitude=latitude,\n",
    "    longitude=longitude,\n",
    "    time=time,\n",
    "    sh_resolution=resolution,\n",
    "    #sh_resampling=ResamplingType.BILINEAR\n",
    "    #measurements=[\"PAN\", \"B2\", \"B1\",\"B0\"],\n",
    ")"
   ]
  },
  {
   "cell_type": "markdown",
   "id": "c53878b1-c07b-4b51-8046-d18d1b8895e9",
   "metadata": {},
   "source": [
    "## Pan-sharpening\n",
    "\n",
    "Even though data of all spectral bands are loaded with the same spatial resolution, they may have different native resolutions. \n",
    "\n",
    "For SPOT data, we can use the panchromatic band (1.5 meter resolution) to sharpen the Red, Green, Blue band images."
   ]
  },
  {
   "cell_type": "code",
   "execution_count": null,
   "id": "0e5f234b-e59e-459e-9773-ed165813564c",
   "metadata": {},
   "outputs": [],
   "source": [
    "ds = ds.to_dataset(dim=\"bands\")\n",
    "weight = (ds.B2 + ds.B1 + ds.B0* 0.4) / 2.4;\n",
    "ratio = ds.PAN/weight #* 2.5\n",
    "sharpened = ds[['B2', 'B1', 'B0']]/ 10000 * ratio"
   ]
  },
  {
   "cell_type": "code",
   "execution_count": null,
   "id": "ba7f2412-46ff-41ae-91cb-980133026149",
   "metadata": {},
   "outputs": [],
   "source": [
    "# Visualize the sharpened images\n",
    "sharpened[['B2', 'B1', 'B0']].to_array().plot.imshow(col='time', robust=True)"
   ]
  },
  {
   "cell_type": "markdown",
   "id": "4bd2cdfc-9ee5-42c7-a3f4-5181c629aad7",
   "metadata": {},
   "source": [
    "## Save data as Cloud-Optimzed Geotiff (COGs)\n",
    "\n",
    "Data can be analysed directly or saved for use in a different workflow. Below, we will save data from each date as a multi-band COG.\n",
    "\n",
    "We will add the CRS to the dataset attribute, so it can saved using the `write_cog` function."
   ]
  },
  {
   "cell_type": "code",
   "execution_count": null,
   "id": "5ad5ce57-de76-4ade-85f2-355660fc04cb",
   "metadata": {},
   "outputs": [],
   "source": [
    "sharpened = assign_crs(sharpened, crs='EPSG:4326')"
   ]
  },
  {
   "cell_type": "code",
   "execution_count": null,
   "id": "a198fab0-1da8-4086-9319-63697b352032",
   "metadata": {},
   "outputs": [],
   "source": [
    "for idx in range(len(ds.time)):\n",
    "    \n",
    "    # Select a single time-slice\n",
    "    rgb_tiff = sharpened[['B2', 'B1', 'B0']].isel(time=idx).to_array()\n",
    "\n",
    "    assign_crs(rgb_tiff, crs='EPSG:4326')\n",
    "    # Write multi-band GeoTIFF to a location\n",
    "    write_cog(rgb_tiff,\n",
    "          fname=f'{country}_{str(ds.time.values[idx])[:10]}.tif',\n",
    "          overwrite=True)"
   ]
  },
  {
   "cell_type": "markdown",
   "id": "a4113e82-9481-4df0-aa8a-14a377fad689",
   "metadata": {},
   "source": [
    "### Save as RGB image\n",
    "\n",
    "A RGB image with 3 channels and values ranging from 0 to 255 can be visualized easily and is used as input in some image analysis workflows.\n",
    "\n",
    "We will rescale the reflectance values of 0 to 0.3 to 0 to 255 and assign 255 to reflectance of greater than 0.3."
   ]
  },
  {
   "cell_type": "code",
   "execution_count": null,
   "id": "862462db-74b5-42ff-a096-a10e123a65c6",
   "metadata": {},
   "outputs": [],
   "source": [
    "rgb = (sharpened.where(sharpened<=0.3,0.3)*255/0.3).round().astype(np.uint8)"
   ]
  },
  {
   "cell_type": "code",
   "execution_count": null,
   "id": "3d3421ed-e2e0-4b1d-a797-4f3f2110dd19",
   "metadata": {},
   "outputs": [],
   "source": [
    "for idx in range(len(ds.time)):\n",
    "    \n",
    "    # Select a single time-slice\n",
    "    rgb_tiff = rgb[['B2', 'B1', 'B0']].isel(time=idx).to_array()\n",
    "\n",
    "    assign_crs(rgb_tiff, crs='EPSG:4326')\n",
    "    # Write multi-band GeoTIFF to a location\n",
    "    write_cog(rgb_tiff,\n",
    "          fname=f'{country}_{str(ds.time.values[idx])[:10]}_rgb.tif',\n",
    "          overwrite=True)\n"
   ]
  }
 ],
 "metadata": {
  "kernelspec": {
   "display_name": "Python 3 (ipykernel)",
   "language": "python",
   "name": "python3"
  },
  "language_info": {
   "codemirror_mode": {
    "name": "ipython",
    "version": 3
   },
   "file_extension": ".py",
   "mimetype": "text/x-python",
   "name": "python",
   "nbconvert_exporter": "python",
   "pygments_lexer": "ipython3",
   "version": "3.8.10"
  },
  "vscode": {
   "interpreter": {
    "hash": "a2a24b19c07de222b1e110e52e9ad43b6c20323470c4464d7e3b9b27f385819c"
   }
  }
 },
 "nbformat": 4,
 "nbformat_minor": 5
}
